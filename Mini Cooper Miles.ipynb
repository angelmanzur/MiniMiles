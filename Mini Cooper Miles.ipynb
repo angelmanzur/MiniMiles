{
 "cells": [
  {
   "cell_type": "code",
   "execution_count": 1,
   "metadata": {
    "collapsed": true
   },
   "outputs": [],
   "source": [
    "import pandas as pd\n",
    "import numpy as np\n",
    "from scipy import stats\n",
    "from datetime import datetime\n",
    "from matplotlib.pyplot import *\n",
    "import matplotlib.pyplot as plt\n",
    "import matplotlib.lines as lines\n",
    "\n",
    "#import seaborn as sns\n",
    "#sns.set(style='ticks')\n",
    "\n",
    "params = {'legend.fontsize': 'x-large',\n",
    "         'figure.figsize': (15,5),\n",
    "         'axes.labelsize': 'x-large',\n",
    "         'axes.titlesize': 'x-large',\n",
    "         'xtick.labelsize': 'x-large',\n",
    "         'ytick.labelsize': 'x-large'}\n",
    "plt.rcParams.update(params)\n",
    "%matplotlib inline\n",
    "\n",
    "pd.options.mode.chained_assignment = None"
   ]
  },
  {
   "cell_type": "code",
   "execution_count": 2,
   "metadata": {
    "collapsed": true
   },
   "outputs": [],
   "source": [
    "#open the csv file for miles\n",
    "filename = 'MiniMiles.csv'\n",
    "\n",
    "#get the data\n",
    "mdata = pd.read_csv(filename,skiprows=0)\n",
    "\n",
    "###Convert Datetime to format\n",
    "mdata['dtime'] = pd.to_datetime(mdata.dtime,format='%Y-%m-%d %H:%M:%S')\n",
    "mdata['miles_int'] = 0\n",
    "\n",
    "nentries = len(mdata)\n",
    "Miles0 = mdata.miles.min()\n",
    "for i in range(1,nentries):\n",
    "    mdata.miles_int.loc[i] = mdata.miles.loc[i]-mdata.miles.loc[i-1]\n",
    "\n",
    "#mdata['mymiles'] = mdata.miles -mdata.miles[0]\n",
    "#mdata['dTime'] = mdata.Data + ' ' \n",
    "\n",
    "### get the gas data\n",
    "gfilename = 'GasRefills.csv'\n",
    "\n",
    "gdata = pd.read_csv(gfilename)\n",
    "gdata['gtime'] = pd.to_datetime(gdata.gtime,format='%Y-%m-%d %H:%M:%S')\n",
    "\n",
    "def add_time_miles(month,day,year,hour,minute, miles):\n",
    "    newdate = datetime(year, month, day, hour, minute)\n",
    "    nentries = len(mdata)\n",
    "    diff = miles - mdata.miles.loc[nentries-1]\n",
    "    if miles < Miles0:\n",
    "        print(\"less miles thatn the initial miles (%d), not adding entry\" %Miles0)\n",
    "        return;\n",
    "    if diff < 0:\n",
    "        print(\"same or lower milege (%d) as previous entry: %d, not adding point\" % (miles,mdata.miles.loc[nentries-1]))\n",
    "        return;\n",
    "    \n",
    "    \n",
    "    print ('Added entry %s, %d' % (newdate, miles))\n",
    "    mdata.loc[nentries] =[pd.to_datetime(newdate),miles,diff]\n",
    "    return;\n",
    "\n",
    "def add_miles(miles):\n",
    "    now = datetime.now()\n",
    "    add_time_miles(now.month, now.day, now.year,now.hour, now.minute, miles)\n",
    "    return;\n",
    "    \n",
    "def add_gas(gallons,price):\n",
    "    nd = datetime.now()\n",
    "    add_time_gas(nd.month, nd.day, nd.year, gallons, price)\n",
    "    return;\n",
    "\n",
    "def add_time_gas(month,day,year, gallons, price):\n",
    "    newdate = datetime(year, month, day, 0, 0)\n",
    "    nentries = len(gdata)\n",
    "        \n",
    "    gdata.loc[nentries] =[pd.to_datetime(newdate),gallons, price]\n",
    "    return;\n",
    "\n",
    "def save_miles():\n",
    "    mdata.to_csv('MiniMiles.csv',sep=',',encoding='utf-8', index=False,columns=['dtime','miles'])\n",
    "    return;\n",
    "\n",
    "def save_gas():\n",
    "    gdata.to_csv('GasRefills.csv',sep=',',encoding='utf-8', index=False,columns=['gtime','gallons','price'])\n",
    "    return;"
   ]
  },
  {
   "cell_type": "markdown",
   "metadata": {},
   "source": [
    "# Add miles or gas data"
   ]
  },
  {
   "cell_type": "code",
   "execution_count": 5,
   "metadata": {
    "collapsed": false
   },
   "outputs": [
    {
     "name": "stdout",
     "output_type": "stream",
     "text": [
      "Added entry 2018-01-05 09:43:00, 4580\n"
     ]
    },
    {
     "data": {
      "text/html": [
       "<div>\n",
       "<table border=\"1\" class=\"dataframe\">\n",
       "  <thead>\n",
       "    <tr style=\"text-align: right;\">\n",
       "      <th></th>\n",
       "      <th>dtime</th>\n",
       "      <th>miles</th>\n",
       "      <th>miles_int</th>\n",
       "    </tr>\n",
       "  </thead>\n",
       "  <tbody>\n",
       "    <tr>\n",
       "      <th>23</th>\n",
       "      <td>2018-01-03 09:26:00</td>\n",
       "      <td>4507</td>\n",
       "      <td>16</td>\n",
       "    </tr>\n",
       "    <tr>\n",
       "      <th>24</th>\n",
       "      <td>2018-01-03 19:57:00</td>\n",
       "      <td>4522</td>\n",
       "      <td>15</td>\n",
       "    </tr>\n",
       "    <tr>\n",
       "      <th>25</th>\n",
       "      <td>2018-01-04 12:02:00</td>\n",
       "      <td>4548</td>\n",
       "      <td>26</td>\n",
       "    </tr>\n",
       "    <tr>\n",
       "      <th>26</th>\n",
       "      <td>2018-01-04 18:12:00</td>\n",
       "      <td>4565</td>\n",
       "      <td>17</td>\n",
       "    </tr>\n",
       "    <tr>\n",
       "      <th>27</th>\n",
       "      <td>2018-01-05 09:43:00</td>\n",
       "      <td>4580</td>\n",
       "      <td>15</td>\n",
       "    </tr>\n",
       "  </tbody>\n",
       "</table>\n",
       "</div>"
      ],
      "text/plain": [
       "                 dtime  miles  miles_int\n",
       "23 2018-01-03 09:26:00   4507         16\n",
       "24 2018-01-03 19:57:00   4522         15\n",
       "25 2018-01-04 12:02:00   4548         26\n",
       "26 2018-01-04 18:12:00   4565         17\n",
       "27 2018-01-05 09:43:00   4580         15"
      ]
     },
     "execution_count": 5,
     "metadata": {},
     "output_type": "execute_result"
    }
   ],
   "source": [
    "#add_time_miles(month, day, year, hour, minutes, miles)\n",
    "# or add_miles(miles) to add using today's timestamp\n",
    "#add_time_miles(1,4,2018,18,12,4565)\n",
    "add_miles(4580)\n",
    "mdata.tail()"
   ]
  },
  {
   "cell_type": "code",
   "execution_count": 4,
   "metadata": {
    "collapsed": true
   },
   "outputs": [],
   "source": [
    "#add_time_gas(month, day, year,hour, minutes, gallons, price)\n",
    "#add_gas(gallons, price)   this will add data with todays date\n",
    "#add_gas(12,18,2017,10,0)\n",
    "add_gas(9.6,21.44)"
   ]
  },
  {
   "cell_type": "code",
   "execution_count": 6,
   "metadata": {
    "collapsed": false
   },
   "outputs": [
    {
     "data": {
      "text/html": [
       "<div>\n",
       "<table border=\"1\" class=\"dataframe\">\n",
       "  <thead>\n",
       "    <tr style=\"text-align: right;\">\n",
       "      <th></th>\n",
       "      <th>gtime</th>\n",
       "      <th>gallons</th>\n",
       "      <th>price</th>\n",
       "    </tr>\n",
       "  </thead>\n",
       "  <tbody>\n",
       "    <tr>\n",
       "      <th>0</th>\n",
       "      <td>2017-12-18</td>\n",
       "      <td>10</td>\n",
       "      <td>0</td>\n",
       "    </tr>\n",
       "  </tbody>\n",
       "</table>\n",
       "</div>"
      ],
      "text/plain": [
       "       gtime  gallons  price\n",
       "0 2017-12-18       10      0"
      ]
     },
     "execution_count": 6,
     "metadata": {},
     "output_type": "execute_result"
    }
   ],
   "source": [
    "gdata.tail()"
   ]
  },
  {
   "cell_type": "code",
   "execution_count": null,
   "metadata": {
    "collapsed": true
   },
   "outputs": [],
   "source": []
  },
  {
   "cell_type": "markdown",
   "metadata": {},
   "source": [
    "## Save the csv data file"
   ]
  },
  {
   "cell_type": "code",
   "execution_count": 7,
   "metadata": {
    "collapsed": true
   },
   "outputs": [],
   "source": [
    "save_miles()"
   ]
  },
  {
   "cell_type": "code",
   "execution_count": null,
   "metadata": {
    "collapsed": true
   },
   "outputs": [],
   "source": [
    "save_gas()"
   ]
  },
  {
   "cell_type": "markdown",
   "metadata": {},
   "source": [
    "# Process the data"
   ]
  },
  {
   "cell_type": "markdown",
   "metadata": {},
   "source": [
    "Resample the data by day 'D', get the total number of miles driven per day, and cumulative miles driven."
   ]
  },
  {
   "cell_type": "code",
   "execution_count": 8,
   "metadata": {
    "collapsed": true
   },
   "outputs": [],
   "source": [
    "#Get the Series data with time as an index\n",
    "dt1 = pd.Series(mdata.miles_int.tolist(), index=mdata.dtime)\n",
    "dt2 = pd.Series(mdata.miles.tolist(), index=mdata.dtime)\n",
    "\n",
    "#resample the data by day, later it can be by week, or business day\n",
    "max_m = dt2.resample('D').max()-Miles0;\n",
    "mpday = dt1.resample('D').sum();\n",
    "\n",
    "#merge the series into a dataframe\n",
    "mpd1 = pd.DataFrame(data=mpday.values,columns=['mpd'])\n",
    "mpd2 = pd.DataFrame(data=mpday.index,columns=['dtime'])\n",
    "max1 = pd.DataFrame(data=max_m.values,columns=['max_miles'])\n",
    "mpdt = pd.merge(mpd2,mpd1,left_index=True, right_index=True);\n",
    "\n",
    "mpd = mpdt.merge(max1,left_index=True,right_index=True)\n",
    "\n",
    "#gas data\n",
    "NGas = len(gdata)"
   ]
  },
  {
   "cell_type": "markdown",
   "metadata": {},
   "source": [
    "Get the miles per gallon of gas added"
   ]
  },
  {
   "cell_type": "code",
   "execution_count": 9,
   "metadata": {
    "collapsed": false
   },
   "outputs": [
    {
     "data": {
      "text/html": [
       "<div>\n",
       "<table border=\"1\" class=\"dataframe\">\n",
       "  <thead>\n",
       "    <tr style=\"text-align: right;\">\n",
       "      <th></th>\n",
       "      <th>gtime</th>\n",
       "      <th>gallons</th>\n",
       "      <th>price</th>\n",
       "      <th>mpergal</th>\n",
       "    </tr>\n",
       "  </thead>\n",
       "  <tbody>\n",
       "    <tr>\n",
       "      <th>0</th>\n",
       "      <td>2017-12-18</td>\n",
       "      <td>10</td>\n",
       "      <td>0</td>\n",
       "      <td>0</td>\n",
       "    </tr>\n",
       "  </tbody>\n",
       "</table>\n",
       "</div>"
      ],
      "text/plain": [
       "       gtime  gallons  price  mpergal\n",
       "0 2017-12-18       10      0        0"
      ]
     },
     "execution_count": 9,
     "metadata": {},
     "output_type": "execute_result"
    }
   ],
   "source": [
    "#miles per gallon of gas\n",
    "gdata['mpergal'] = 0\n",
    "NGas = len(gdata)\n",
    "for i in range(1,NGas):\n",
    "    mpg = mpd[(mpd.dtime>= gdata.gtime.loc[i-1]) & (mpd.dtime< gdata.gtime.loc[i])]\n",
    "    #miles in the period\n",
    "    gdata.mpergal.loc[i] = mpg.mpd.sum()/gdata.gallons.loc[i]\n",
    "    #print(i)\n",
    "gdata.head()   "
   ]
  },
  {
   "cell_type": "markdown",
   "metadata": {
    "collapsed": true
   },
   "source": [
    "# Plot the miles vs time"
   ]
  },
  {
   "cell_type": "code",
   "execution_count": 10,
   "metadata": {
    "collapsed": false,
    "scrolled": false
   },
   "outputs": [
    {
     "data": {
      "image/png": "[encoded data removed]",
      "text/plain": [
       "<matplotlib.figure.Figure at 0xa7f0c88>"
      ]
     },
     "metadata": {},
     "output_type": "display_data"
    }
   ],
   "source": [
    "fig, ax1 = plt.subplots(2,sharex=True,figsize=(15,8))\n",
    "#ax2 = ax1.twinx()\n",
    "fig.suptitle('Mini Cooper CountryMan',fontsize=20)\n",
    "ax1[0].plot(mpd.dtime, mpd.mpd,'g*-',linewidth=2,ms=16 )\n",
    "#ax1[1].plot(mpd.dtime, mpd.max_miles-Miles0,'b*-',linewidth=2,ms=16)\n",
    "\n",
    "p1,= ax1[1].plot(gdata.gtime, gdata.gallons,'b*-',linewidth=2,ms=16)\n",
    "ax2 = ax1[1].twinx()\n",
    "ax3 = ax1[1].twinx()\n",
    "\n",
    "\n",
    "ax3.spines[\"right\"].set_position((\"axes\", 1.08))\n",
    "ax3.spines[\"right\"].set_visible(True)\n",
    "\n",
    "p2, = ax2.plot(gdata.gtime, gdata.price, 'r*-',linewidth=2,ms=16)\n",
    "ax2.set_ylabel('Price', color='r')\n",
    "#ax3.spines[\"right\"].set_position((\"axes\", 1.2)\n",
    "                                 \n",
    "p3, = ax3.plot(gdata.gtime, gdata.mpergal,'g*-',linewidth=2,ms=16)\n",
    "ax3.set_ylabel('Miles per gallon',color='g')\n",
    "\n",
    "#\n",
    "#set the titles\n",
    "ax1[0].set_ylabel('Miles per Day', color ='g',fontsize=18)\n",
    "ax1[1].set_ylabel('Gallons', color ='b',fontsize=18)\n",
    "ax1[1].set_xlabel('Date',fontsize=18)\n",
    "ax1[0].grid(True)\n",
    "ax1[1].grid(True)\n",
    "\n",
    "#set the colors\n",
    "tkw = dict(size=4, width=1.5)\n",
    "ax1[1].tick_params(axis='y', colors=p1.get_color(), **tkw)\n",
    "ax2.tick_params(axis='y', colors=p2.get_color(), **tkw)\n",
    "ax3.tick_params(axis='y', colors=p3.get_color(), **tkw)\n",
    "\n",
    "\n",
    "ax1[0].set_ylim(0,100)\n",
    "ax1[1].set_ylim(0,15)\n",
    "ax2.set_ylim(0,40)\n",
    "fig.subplots_adjust(hspace=.05)\n",
    "\n",
    "\n",
    "##\n",
    "#line = lines.Line2D([gdata.gtime[0], 15], [gdata.gtime[0], 35], lw=2, color='red', axes=ax1[0])\n",
    "#ax1[0].add_line(line)\n",
    "#l1=plt.axhline(50,color='red',ls='-')\n",
    "for i in range(NGas):\n",
    "    ax1[0].axvline(gdata.gtime[i], color='r', linestyle='--', lw=2)\n",
    "    ax1[1].axvline(gdata.gtime[i], color='r', linestyle='--', lw=2)\n",
    "\n",
    "    \n",
    "lines = [p1, p2, p3]\n",
    "ax1[1].legend(lines, [l.get_label() for l in lines])\n",
    "\n",
    "\n",
    "plt.show()"
   ]
  },
  {
   "cell_type": "code",
   "execution_count": 11,
   "metadata": {
    "collapsed": false
   },
   "outputs": [
    {
     "data": {
      "text/plain": [
       "<matplotlib.text.Text at 0xa5910b8>"
      ]
     },
     "execution_count": 11,
     "metadata": {},
     "output_type": "execute_result"
    },
    {
     "data": {
      "text/plain": [
       "<matplotlib.figure.Figure at 0xa112e80>"
      ]
     },
     "metadata": {},
     "output_type": "display_data"
    },
    {
     "data": {
      "image/png": "[encoded data removed]",
      "text/plain": [
       "<matplotlib.figure.Figure at 0xa1059e8>"
      ]
     },
     "metadata": {},
     "output_type": "display_data"
    }
   ],
   "source": [
    "fig = plt.figure(2)\n",
    "mpd.plot(x='dtime',y='max_miles',figsize=(15,6),grid=True,kind='line',\n",
    "         label='Miles per day',linewidth=1,title='Miles per day')\n",
    "plt.ylabel('Miles',fontsize=18)\n",
    "plt.xlabel('Time',fontsize = 18)\n",
    "plt.semilogy()\n",
    "plt.xticks(fontsize=12)\n",
    "plt.yticks(fontsize=12)\n",
    "plt.legend(fontsize=14)\n",
    "#plt.savefig('Thermal_Profile//Temperature_1.png')\n",
    "plt.title('Mini Country',fontsize=18)\n",
    "\n",
    "#slope, intercept, r_value, p_value, std_err = stats.linregress(mpd.dtime,mpd.max_miles)"
   ]
  },
  {
   "cell_type": "code",
   "execution_count": null,
   "metadata": {
    "collapsed": true
   },
   "outputs": [],
   "source": [
    "#Plot miles per trip\n",
    "#gdata.gtime[0]\n",
    "#fig = plt.figure(1)\n",
    "#mdata[mdata.miles_int >0].plot(x='dtime',y='miles_int',figsize=(15,10),grid=True,label='Miles per trip')"
   ]
  },
  {
   "cell_type": "code",
   "execution_count": 12,
   "metadata": {
    "collapsed": false
   },
   "outputs": [
    {
     "data": {
      "text/plain": [
       "RangeIndex(start=0, stop=28, step=1)"
      ]
     },
     "execution_count": 12,
     "metadata": {},
     "output_type": "execute_result"
    }
   ],
   "source": [
    "#open the csv file for miles\n",
    "filename = 'MiniMiles.csv'\n",
    "\n",
    "#get the data\n",
    "mdata2 = pd.read_csv(filename,skiprows=0)\n",
    "mdata2.index\n",
    "###Convert Datetime to format\n",
    "#mdata['dtime'] = pd.to_datetime(mdata.dtime,format='%Y-%m-%d %H:%M:%S')\n",
    "#mdata['miles_int'] = 0"
   ]
  },
  {
   "cell_type": "code",
   "execution_count": 17,
   "metadata": {
    "collapsed": false
   },
   "outputs": [
    {
     "data": {
      "text/html": [
       "<div>\n",
       "<table border=\"1\" class=\"dataframe\">\n",
       "  <thead>\n",
       "    <tr style=\"text-align: right;\">\n",
       "      <th></th>\n",
       "      <th>mpd</th>\n",
       "      <th>max_miles</th>\n",
       "    </tr>\n",
       "    <tr>\n",
       "      <th>dtime</th>\n",
       "      <th></th>\n",
       "      <th></th>\n",
       "    </tr>\n",
       "  </thead>\n",
       "  <tbody>\n",
       "    <tr>\n",
       "      <th>2018-01-01</th>\n",
       "      <td>0</td>\n",
       "      <td>182</td>\n",
       "    </tr>\n",
       "    <tr>\n",
       "      <th>2018-01-02</th>\n",
       "      <td>30</td>\n",
       "      <td>212</td>\n",
       "    </tr>\n",
       "    <tr>\n",
       "      <th>2018-01-03</th>\n",
       "      <td>31</td>\n",
       "      <td>243</td>\n",
       "    </tr>\n",
       "    <tr>\n",
       "      <th>2018-01-04</th>\n",
       "      <td>43</td>\n",
       "      <td>286</td>\n",
       "    </tr>\n",
       "    <tr>\n",
       "      <th>2018-01-05</th>\n",
       "      <td>15</td>\n",
       "      <td>301</td>\n",
       "    </tr>\n",
       "  </tbody>\n",
       "</table>\n",
       "</div>"
      ],
      "text/plain": [
       "            mpd  max_miles\n",
       "dtime                     \n",
       "2018-01-01    0        182\n",
       "2018-01-02   30        212\n",
       "2018-01-03   31        243\n",
       "2018-01-04   43        286\n",
       "2018-01-05   15        301"
      ]
     },
     "execution_count": 17,
     "metadata": {},
     "output_type": "execute_result"
    }
   ],
   "source": [
    "m2 =mpd.set_index('dtime')\n",
    "m2.tail()"
   ]
  },
  {
   "cell_type": "code",
   "execution_count": 16,
   "metadata": {
    "collapsed": false
   },
   "outputs": [
    {
     "data": {
      "text/plain": [
       "<matplotlib.text.Text at 0xbf4e2b0>"
      ]
     },
     "execution_count": 16,
     "metadata": {},
     "output_type": "execute_result"
    },
    {
     "data": {
      "image/png": "[encoded data removed]",
      "text/plain": [
       "<matplotlib.figure.Figure at 0xbcae7f0>"
      ]
     },
     "metadata": {},
     "output_type": "display_data"
    }
   ],
   "source": [
    "m2.mpd.plot(label='Raw')\n",
    "m2.mpd.rolling(7).mean().plot(label='D')\n",
    "plt.legend(bbox_to_anchor=(1.25, .5))\n",
    "plt.tight_layout()\n",
    "plt.ylabel(\"Miles\")"
   ]
  },
  {
   "cell_type": "code",
   "execution_count": null,
   "metadata": {
    "collapsed": true
   },
   "outputs": [],
   "source": []
  }
 ],
 "metadata": {
  "kernelspec": {
   "display_name": "Python 3",
   "language": "python",
   "name": "python3"
  },
  "language_info": {
   "codemirror_mode": {
    "name": "ipython",
    "version": 3
   },
   "file_extension": ".py",
   "mimetype": "text/x-python",
   "name": "python",
   "nbconvert_exporter": "python",
   "pygments_lexer": "ipython3",
   "version": "3.6.0"
  }
 },
 "nbformat": 4,
 "nbformat_minor": 2
}
