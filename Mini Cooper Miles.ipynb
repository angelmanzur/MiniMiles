{
 "cells": [
  {
   "cell_type": "code",
   "execution_count": 29,
   "metadata": {},
   "outputs": [],
   "source": [
    "import pandas as pd\n",
    "import numpy as np\n",
    "from datetime import datetime\n",
    "from matplotlib.pyplot import *\n",
    "import matplotlib.pyplot as plt\n",
    "\n",
    "#import seaborn as sns\n",
    "#sns.set(style='ticks')\n",
    "\n",
    "params = {'legend.fontsize': 'x-large',\n",
    "         'figure.figsize': (15,5),\n",
    "         'axes.labelsize': 'x-large',\n",
    "         'axes.titlesize': 'x-large',\n",
    "         'xtick.labelsize': 'x-large',\n",
    "         'ytick.labelsize': 'x-large'}\n",
    "plt.rcParams.update(params)\n",
    "%matplotlib inline\n",
    "\n",
    "pd.options.mode.chained_assignment = None"
   ]
  },
  {
   "cell_type": "code",
   "execution_count": 40,
   "metadata": {},
   "outputs": [],
   "source": [
    "#open the csv file for miles\n",
    "filename = 'MiniMiles.csv'\n",
    "\n",
    "#get the data\n",
    "mdata = pd.read_csv(filename,skiprows=0)\n",
    "\n",
    "###Convert Datetime to format\n",
    "mdata['dtime'] = pd.to_datetime(mdata.dtime,format='%Y-%m-%d %H:%M:%S')\n",
    "mdata['miles_int'] = 0\n",
    "\n",
    "nentries = len(mdata)\n",
    "Miles0 = mdata.miles.min()\n",
    "for i in range(1,nentries):\n",
    "    mdata.miles_int.loc[i] = mdata.miles.loc[i]-mdata.miles.loc[i-1]\n",
    "\n",
    "#mdata['mymiles'] = mdata.miles -mdata.miles[0]\n",
    "#mdata['dTime'] = mdata.Data + ' ' \n",
    "\n",
    "def add_miles(month,day,year,hour,minute, miles):\n",
    "    newdate = datetime(year, month, day, hour, minute)\n",
    "    nentries = len(mdata)\n",
    "    diff = miles - mdata.miles.loc[nentries-1]\n",
    "    if diff < 0:\n",
    "        return\n",
    "    \n",
    "    mdata.loc[nentries] =[pd.to_datetime(newdate),miles,diff]\n",
    "    return;\n",
    "\n",
    "def add_gas(month,day,year,hour,minute, gallons, price):\n",
    "    newdate = datetime(year, month, day, hour, minute)\n",
    "    nentries = len(gdata)\n",
    "        \n",
    "    gdata.loc[nentries] =[pd.to_datetime(newdate),gallons, price]\n",
    "    return;\n",
    "\n",
    "def save_miles():\n",
    "    mdata.to_csv('MiniMiles.csv',sep=',',encoding='utf-8', index=False,columns=['dtime','miles'])\n",
    "    return;\n",
    "\n",
    "def save_gas():\n",
    "    gdata.to_csv('GasRefills.csv',sep=',',encoding='utf-8', index=False,columns=['gtime','gallons','price'])\n",
    "    return;"
   ]
  },
  {
   "cell_type": "markdown",
   "metadata": {},
   "source": [
    "# Add miles or gas data"
   ]
  },
  {
   "cell_type": "code",
   "execution_count": 10,
   "metadata": {},
   "outputs": [
    {
     "data": {
      "text/html": [
       "<div>\n",
       "<style scoped>\n",
       "    .dataframe tbody tr th:only-of-type {\n",
       "        vertical-align: middle;\n",
       "    }\n",
       "\n",
       "    .dataframe tbody tr th {\n",
       "        vertical-align: top;\n",
       "    }\n",
       "\n",
       "    .dataframe thead th {\n",
       "        text-align: right;\n",
       "    }\n",
       "</style>\n",
       "<table border=\"1\" class=\"dataframe\">\n",
       "  <thead>\n",
       "    <tr style=\"text-align: right;\">\n",
       "      <th></th>\n",
       "      <th>dtime</th>\n",
       "      <th>miles</th>\n",
       "      <th>miles_int</th>\n",
       "    </tr>\n",
       "  </thead>\n",
       "  <tbody>\n",
       "    <tr>\n",
       "      <th>0</th>\n",
       "      <td>2017-12-18 18:00:01</td>\n",
       "      <td>4279</td>\n",
       "      <td>0</td>\n",
       "    </tr>\n",
       "    <tr>\n",
       "      <th>1</th>\n",
       "      <td>2017-12-18 21:00:00</td>\n",
       "      <td>4291</td>\n",
       "      <td>12</td>\n",
       "    </tr>\n",
       "    <tr>\n",
       "      <th>2</th>\n",
       "      <td>2017-12-19 20:00:00</td>\n",
       "      <td>4325</td>\n",
       "      <td>34</td>\n",
       "    </tr>\n",
       "    <tr>\n",
       "      <th>3</th>\n",
       "      <td>2017-12-20 18:45:00</td>\n",
       "      <td>4355</td>\n",
       "      <td>30</td>\n",
       "    </tr>\n",
       "    <tr>\n",
       "      <th>4</th>\n",
       "      <td>2017-12-20 19:30:00</td>\n",
       "      <td>4358</td>\n",
       "      <td>3</td>\n",
       "    </tr>\n",
       "  </tbody>\n",
       "</table>\n",
       "</div>"
      ],
      "text/plain": [
       "                dtime  miles  miles_int\n",
       "0 2017-12-18 18:00:01   4279          0\n",
       "1 2017-12-18 21:00:00   4291         12\n",
       "2 2017-12-19 20:00:00   4325         34\n",
       "3 2017-12-20 18:45:00   4355         30\n",
       "4 2017-12-20 19:30:00   4358          3"
      ]
     },
     "execution_count": 10,
     "metadata": {},
     "output_type": "execute_result"
    }
   ],
   "source": [
    "#add_miles(month, day, year, hour, minutes, miles)\n",
    "#add_miles(12,20,2017,19,30,4358)"
   ]
  },
  {
   "cell_type": "code",
   "execution_count": null,
   "metadata": {},
   "outputs": [],
   "source": [
    "#add_gas(month, day, year,hour, minutes, gallons, price)"
   ]
  },
  {
   "cell_type": "code",
   "execution_count": null,
   "metadata": {},
   "outputs": [],
   "source": []
  },
  {
   "cell_type": "markdown",
   "metadata": {},
   "source": [
    "## Save the csv data file"
   ]
  },
  {
   "cell_type": "code",
   "execution_count": 36,
   "metadata": {},
   "outputs": [],
   "source": [
    "save_miles()"
   ]
  },
  {
   "cell_type": "code",
   "execution_count": 39,
   "metadata": {},
   "outputs": [],
   "source": [
    "save_gas()"
   ]
  },
  {
   "cell_type": "markdown",
   "metadata": {},
   "source": [
    "# Resample the date by day"
   ]
  },
  {
   "cell_type": "markdown",
   "metadata": {},
   "source": [
    "Resample the data by day 'D', get the total number of miles driven per day, and cumulative miles driven."
   ]
  },
  {
   "cell_type": "code",
   "execution_count": 4,
   "metadata": {},
   "outputs": [],
   "source": [
    "#Get the Series data with time as an index\n",
    "dt1 = pd.Series(mdata.miles_int.tolist(), index=mdata.dtime)\n",
    "dt2 = pd.Series(mdata.miles.tolist(), index=mdata.dtime)\n",
    "\n",
    "#resample the data by day, later it can be by week, or business day\n",
    "max_m = dt2.resample('D').max();\n",
    "mpday = dt1.resample('D').sum();\n",
    "\n",
    "#merge the series into a dataframe\n",
    "mpd1 = pd.DataFrame(data=mpday.values,columns=['mpd'])\n",
    "mpd2 = pd.DataFrame(data=mpday.index,columns=['dtime'])\n",
    "max1 = pd.DataFrame(data=max_m.values,columns=['max_miles'])\n",
    "mpdt = pd.merge(mpd2,mpd1,left_index=True, right_index=True);\n",
    "\n",
    "mpd = mpdt.merge(max1,left_index=True,right_index=True)"
   ]
  },
  {
   "cell_type": "markdown",
   "metadata": {
    "collapsed": true
   },
   "source": [
    "# Plot the miles vs time"
   ]
  },
  {
   "cell_type": "code",
   "execution_count": 27,
   "metadata": {
    "scrolled": false
   },
   "outputs": [
    {
     "data": {
      "image/png": "[encoded data removed]",
      "text/plain": [
       "<matplotlib.figure.Figure at 0x11329aa90>"
      ]
     },
     "metadata": {},
     "output_type": "display_data"
    }
   ],
   "source": [
    "fig, ax1 = plt.subplots()\n",
    "ax2 = ax1.twinx()\n",
    "\n",
    "ax1.plot(mpd.dtime, mpd.mpd,'g-',linewidth=4)\n",
    "ax2.plot(mpd.dtime, mpd.max_miles-Miles0, 'b-',linewidth=4)\n",
    "\n",
    "\n",
    "ax1.set_xlabel('Date')\n",
    "ax1.set_ylabel('Miles per Day', color ='g')\n",
    "ax2.set_ylabel('Total Miles', color='b')\n",
    "ax1.grid(True)\n",
    "#ax2.semilogy(True)\n",
    "#ax1.semilogy(True)\n",
    "plt.show()\n",
    "plt.rcParams['figure.figsize']=10,6\n"
   ]
  },
  {
   "cell_type": "code",
   "execution_count": 21,
   "metadata": {},
   "outputs": [
    {
     "data": {
      "text/plain": [
       "<matplotlib.axes._subplots.AxesSubplot at 0x113902978>"
      ]
     },
     "execution_count": 21,
     "metadata": {},
     "output_type": "execute_result"
    },
    {
     "data": {
      "text/plain": [
       "<matplotlib.figure.Figure at 0x112b22b70>"
      ]
     },
     "metadata": {},
     "output_type": "display_data"
    },
    {
     "data": {
      "image/png": "[encoded data removed]",
      "text/plain": [
       "<matplotlib.figure.Figure at 0x1132c7780>"
      ]
     },
     "metadata": {},
     "output_type": "display_data"
    }
   ],
   "source": [
    "fig = plt.figure(1)\n",
    "mpd.plot(x='dtime',y='mpd',figsize=(10,6),grid=True,kind='line',\n",
    "         label='Miles per day',linewidth=4,title='Miles per day')"
   ]
  },
  {
   "cell_type": "code",
   "execution_count": 83,
   "metadata": {},
   "outputs": [],
   "source": [
    "#Plot miles per trip\n",
    "#fig = plt.figure(1)\n",
    "#mdata[mdata.miles_int >0].plot(x='dtime',y='miles_int',figsize=(15,10),grid=True,label='Miles per trip')"
   ]
  },
  {
   "cell_type": "code",
   "execution_count": 38,
   "metadata": {},
   "outputs": [],
   "source": [
    "gdata = pd.DataFrame(columns=['gtime','gallons','price'])"
   ]
  },
  {
   "cell_type": "code",
   "execution_count": null,
   "metadata": {},
   "outputs": [],
   "source": []
  },
  {
   "cell_type": "code",
   "execution_count": null,
   "metadata": {},
   "outputs": [],
   "source": []
  }
 ],
 "metadata": {
  "kernelspec": {
   "display_name": "Python 3",
   "language": "python",
   "name": "python3"
  },
  "language_info": {
   "codemirror_mode": {
    "name": "ipython",
    "version": 3
   },
   "file_extension": ".py",
   "mimetype": "text/x-python",
   "name": "python",
   "nbconvert_exporter": "python",
   "pygments_lexer": "ipython3",
   "version": "3.6.3"
  }
 },
 "nbformat": 4,
 "nbformat_minor": 2
}
