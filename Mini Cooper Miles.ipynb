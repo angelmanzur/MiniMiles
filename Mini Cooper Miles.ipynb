{
 "cells": [
  {
   "cell_type": "code",
   "execution_count": 1,
   "metadata": {},
   "outputs": [],
   "source": [
    "import pandas as pd\n",
    "import numpy as np\n",
    "from scipy import stats\n",
    "from datetime import datetime\n",
    "from matplotlib.pyplot import *\n",
    "import matplotlib.pyplot as plt\n",
    "import matplotlib.lines as lines\n",
    "\n",
    "#import seaborn as sns\n",
    "#sns.set(style='ticks')\n",
    "\n",
    "params = {'legend.fontsize': 'x-large',\n",
    "         'figure.figsize': (15,5),\n",
    "         'axes.labelsize': 'x-large',\n",
    "         'axes.titlesize': 'x-large',\n",
    "         'xtick.labelsize': 'x-large',\n",
    "         'ytick.labelsize': 'x-large'}\n",
    "plt.rcParams.update(params)\n",
    "%matplotlib inline\n",
    "\n",
    "pd.options.mode.chained_assignment = None"
   ]
  },
  {
   "cell_type": "code",
   "execution_count": 2,
   "metadata": {},
   "outputs": [],
   "source": [
    "#open the csv file for miles\n",
    "filename = 'MiniMiles.csv'\n",
    "\n",
    "#get the data\n",
    "mdata = pd.read_csv(filename,skiprows=0)\n",
    "\n",
    "###Convert Datetime to format\n",
    "mdata['dtime'] = pd.to_datetime(mdata.dtime,format='%Y-%m-%d %H:%M:%S')\n",
    "mdata['miles_int'] = 0\n",
    "\n",
    "nentries = len(mdata)\n",
    "Miles0 = mdata.miles.min()\n",
    "for i in range(1,nentries):\n",
    "    mdata.miles_int.loc[i] = mdata.miles.loc[i]-mdata.miles.loc[i-1]\n",
    "\n",
    "#mdata['mymiles'] = mdata.miles -mdata.miles[0]\n",
    "#mdata['dTime'] = mdata.Data + ' ' \n",
    "\n",
    "### get the gas data\n",
    "gfilename = 'GasRefills.csv'\n",
    "\n",
    "gdata = pd.read_csv(gfilename)\n",
    "gdata['gtime'] = pd.to_datetime(gdata.gtime,format='%Y-%m-%d %H:%M:%S')\n",
    "\n",
    "def add_time_miles(month,day,year,hour,minute, miles):\n",
    "    newdate = datetime(year, month, day, hour, minute)\n",
    "    nentries = len(mdata)\n",
    "    diff = miles - mdata.miles.loc[nentries-1]\n",
    "    if miles < Miles0:\n",
    "        print(\"less miles thatn the initial miles (%d), not adding entry\" %Miles0)\n",
    "        return;\n",
    "    if diff < 0:\n",
    "        print(\"same or lower milege (%d) as previous entry: %d, not adding point\" % (miles,mdata.miles.loc[nentries-1]))\n",
    "        return;\n",
    "    \n",
    "    \n",
    "    print ('Added entry %s, %d' % (newdate, miles))\n",
    "    mdata.loc[nentries] =[pd.to_datetime(newdate),miles,diff]\n",
    "    return;\n",
    "\n",
    "def add_miles(miles):\n",
    "    now = datetime.now()\n",
    "    add_time_miles(now.month, now.day, now.year,now.hour, now.minute, miles)\n",
    "    return;\n",
    "    \n",
    "def add_gas(gallons,price):\n",
    "    nd = datetime.now()\n",
    "    add_time_gas(nd.month, nd.day, nd.year, gallons, price)\n",
    "    return;\n",
    "\n",
    "def add_time_gas(month,day,year, gallons, price):\n",
    "    newdate = datetime(year, month, day, 0, 0)\n",
    "    nentries = len(gdata)\n",
    "        \n",
    "    gdata.loc[nentries] =[pd.to_datetime(newdate),gallons, price]\n",
    "    return;\n",
    "\n",
    "def save_miles():\n",
    "    mdata.to_csv('MiniMiles.csv',sep=',',encoding='utf-8', index=False,columns=['dtime','miles'])\n",
    "    return;\n",
    "\n",
    "def save_gas():\n",
    "    gdata.to_csv('GasRefills.csv',sep=',',encoding='utf-8', index=False,columns=['gtime','gallons','price'])\n",
    "    return;"
   ]
  },
  {
   "cell_type": "markdown",
   "metadata": {},
   "source": [
    "# Add miles or gas data"
   ]
  },
  {
   "cell_type": "code",
   "execution_count": 6,
   "metadata": {},
   "outputs": [
    {
     "name": "stdout",
     "output_type": "stream",
     "text": [
      "Added entry 2017-12-31 15:18:00, 4460\n"
     ]
    },
    {
     "data": {
      "text/html": [
       "<div>\n",
       "<style scoped>\n",
       "    .dataframe tbody tr th:only-of-type {\n",
       "        vertical-align: middle;\n",
       "    }\n",
       "\n",
       "    .dataframe tbody tr th {\n",
       "        vertical-align: top;\n",
       "    }\n",
       "\n",
       "    .dataframe thead th {\n",
       "        text-align: right;\n",
       "    }\n",
       "</style>\n",
       "<table border=\"1\" class=\"dataframe\">\n",
       "  <thead>\n",
       "    <tr style=\"text-align: right;\">\n",
       "      <th></th>\n",
       "      <th>dtime</th>\n",
       "      <th>miles</th>\n",
       "      <th>miles_int</th>\n",
       "    </tr>\n",
       "  </thead>\n",
       "  <tbody>\n",
       "    <tr>\n",
       "      <th>15</th>\n",
       "      <td>2017-12-26 12:00:00</td>\n",
       "      <td>4460</td>\n",
       "      <td>0</td>\n",
       "    </tr>\n",
       "    <tr>\n",
       "      <th>16</th>\n",
       "      <td>2017-12-28 10:05:00</td>\n",
       "      <td>4460</td>\n",
       "      <td>0</td>\n",
       "    </tr>\n",
       "    <tr>\n",
       "      <th>17</th>\n",
       "      <td>2017-12-29 12:00:00</td>\n",
       "      <td>4460</td>\n",
       "      <td>0</td>\n",
       "    </tr>\n",
       "    <tr>\n",
       "      <th>18</th>\n",
       "      <td>2017-12-30 12:00:00</td>\n",
       "      <td>4460</td>\n",
       "      <td>0</td>\n",
       "    </tr>\n",
       "    <tr>\n",
       "      <th>19</th>\n",
       "      <td>2017-12-31 15:18:00</td>\n",
       "      <td>4460</td>\n",
       "      <td>0</td>\n",
       "    </tr>\n",
       "  </tbody>\n",
       "</table>\n",
       "</div>"
      ],
      "text/plain": [
       "                 dtime  miles  miles_int\n",
       "15 2017-12-26 12:00:00   4460          0\n",
       "16 2017-12-28 10:05:00   4460          0\n",
       "17 2017-12-29 12:00:00   4460          0\n",
       "18 2017-12-30 12:00:00   4460          0\n",
       "19 2017-12-31 15:18:00   4460          0"
      ]
     },
     "execution_count": 6,
     "metadata": {},
     "output_type": "execute_result"
    }
   ],
   "source": [
    "#add_time_miles(month, day, year, hour, minutes, miles)\n",
    "# or add_miles(miles) to add using today's timestamp\n",
    "#add_time_miles(12,30,2017,12,0,4460)\n",
    "add_miles(4460)\n",
    "mdata.tail()"
   ]
  },
  {
   "cell_type": "code",
   "execution_count": 4,
   "metadata": {},
   "outputs": [],
   "source": [
    "#add_time_gas(month, day, year,hour, minutes, gallons, price)\n",
    "#add_gas(gallons, price)   this will add data with todays date\n",
    "#add_gas(12,18,2017,10,0)\n",
    "add_gas(9.6,21.44)"
   ]
  },
  {
   "cell_type": "code",
   "execution_count": 27,
   "metadata": {},
   "outputs": [
    {
     "data": {
      "text/html": [
       "<div>\n",
       "<style scoped>\n",
       "    .dataframe tbody tr th:only-of-type {\n",
       "        vertical-align: middle;\n",
       "    }\n",
       "\n",
       "    .dataframe tbody tr th {\n",
       "        vertical-align: top;\n",
       "    }\n",
       "\n",
       "    .dataframe thead th {\n",
       "        text-align: right;\n",
       "    }\n",
       "</style>\n",
       "<table border=\"1\" class=\"dataframe\">\n",
       "  <thead>\n",
       "    <tr style=\"text-align: right;\">\n",
       "      <th></th>\n",
       "      <th>gtime</th>\n",
       "      <th>gallons</th>\n",
       "      <th>price</th>\n",
       "    </tr>\n",
       "  </thead>\n",
       "  <tbody>\n",
       "    <tr>\n",
       "      <th>0</th>\n",
       "      <td>2017-12-18</td>\n",
       "      <td>10</td>\n",
       "      <td>0</td>\n",
       "    </tr>\n",
       "  </tbody>\n",
       "</table>\n",
       "</div>"
      ],
      "text/plain": [
       "       gtime  gallons  price\n",
       "0 2017-12-18       10      0"
      ]
     },
     "execution_count": 27,
     "metadata": {},
     "output_type": "execute_result"
    }
   ],
   "source": [
    "gdata.tail()"
   ]
  },
  {
   "cell_type": "code",
   "execution_count": null,
   "metadata": {},
   "outputs": [],
   "source": []
  },
  {
   "cell_type": "markdown",
   "metadata": {},
   "source": [
    "## Save the csv data file"
   ]
  },
  {
   "cell_type": "code",
   "execution_count": 7,
   "metadata": {},
   "outputs": [],
   "source": [
    "save_miles()"
   ]
  },
  {
   "cell_type": "code",
   "execution_count": null,
   "metadata": {},
   "outputs": [],
   "source": [
    "save_gas()"
   ]
  },
  {
   "cell_type": "markdown",
   "metadata": {},
   "source": [
    "# Process the data"
   ]
  },
  {
   "cell_type": "markdown",
   "metadata": {},
   "source": [
    "Resample the data by day 'D', get the total number of miles driven per day, and cumulative miles driven."
   ]
  },
  {
   "cell_type": "code",
   "execution_count": 8,
   "metadata": {},
   "outputs": [],
   "source": [
    "#Get the Series data with time as an index\n",
    "dt1 = pd.Series(mdata.miles_int.tolist(), index=mdata.dtime)\n",
    "dt2 = pd.Series(mdata.miles.tolist(), index=mdata.dtime)\n",
    "\n",
    "#resample the data by day, later it can be by week, or business day\n",
    "max_m = dt2.resample('D').max()-Miles0;\n",
    "mpday = dt1.resample('D').sum();\n",
    "\n",
    "#merge the series into a dataframe\n",
    "mpd1 = pd.DataFrame(data=mpday.values,columns=['mpd'])\n",
    "mpd2 = pd.DataFrame(data=mpday.index,columns=['dtime'])\n",
    "max1 = pd.DataFrame(data=max_m.values,columns=['max_miles'])\n",
    "mpdt = pd.merge(mpd2,mpd1,left_index=True, right_index=True);\n",
    "\n",
    "mpd = mpdt.merge(max1,left_index=True,right_index=True)\n",
    "\n",
    "#gas data\n",
    "NGas = len(gdata)"
   ]
  },
  {
   "cell_type": "markdown",
   "metadata": {},
   "source": [
    "Get the miles per gallon of gas added"
   ]
  },
  {
   "cell_type": "code",
   "execution_count": 9,
   "metadata": {},
   "outputs": [
    {
     "data": {
      "text/html": [
       "<div>\n",
       "<style scoped>\n",
       "    .dataframe tbody tr th:only-of-type {\n",
       "        vertical-align: middle;\n",
       "    }\n",
       "\n",
       "    .dataframe tbody tr th {\n",
       "        vertical-align: top;\n",
       "    }\n",
       "\n",
       "    .dataframe thead th {\n",
       "        text-align: right;\n",
       "    }\n",
       "</style>\n",
       "<table border=\"1\" class=\"dataframe\">\n",
       "  <thead>\n",
       "    <tr style=\"text-align: right;\">\n",
       "      <th></th>\n",
       "      <th>gtime</th>\n",
       "      <th>gallons</th>\n",
       "      <th>price</th>\n",
       "      <th>mpergal</th>\n",
       "    </tr>\n",
       "  </thead>\n",
       "  <tbody>\n",
       "    <tr>\n",
       "      <th>0</th>\n",
       "      <td>2017-12-18</td>\n",
       "      <td>10</td>\n",
       "      <td>0</td>\n",
       "      <td>0</td>\n",
       "    </tr>\n",
       "  </tbody>\n",
       "</table>\n",
       "</div>"
      ],
      "text/plain": [
       "       gtime  gallons  price  mpergal\n",
       "0 2017-12-18       10      0        0"
      ]
     },
     "execution_count": 9,
     "metadata": {},
     "output_type": "execute_result"
    }
   ],
   "source": [
    "#miles per gallon of gas\n",
    "gdata['mpergal'] = 0\n",
    "NGas = len(gdata)\n",
    "for i in range(1,NGas):\n",
    "    mpg = mpd[(mpd.dtime>= gdata.gtime.loc[i-1]) & (mpd.dtime< gdata.gtime.loc[i])]\n",
    "    #miles in the period\n",
    "    gdata.mpergal.loc[i] = mpg.mpd.sum()/gdata.gallons.loc[i]\n",
    "    #print(i)\n",
    "gdata.head()   "
   ]
  },
  {
   "cell_type": "markdown",
   "metadata": {
    "collapsed": true
   },
   "source": [
    "# Plot the miles vs time"
   ]
  },
  {
   "cell_type": "code",
   "execution_count": 12,
   "metadata": {
    "scrolled": false
   },
   "outputs": [
    {
     "data": {
      "image/png": "[encoded data removed]",
      "text/plain": [
       "<matplotlib.figure.Figure at 0x10e7eda90>"
      ]
     },
     "metadata": {},
     "output_type": "display_data"
    }
   ],
   "source": [
    "fig, ax1 = plt.subplots(2,sharex=True,figsize=(15,8))\n",
    "#ax2 = ax1.twinx()\n",
    "fig.suptitle('Mini Cooper CountryMan',fontsize=20)\n",
    "ax1[0].plot(mpd.dtime, mpd.mpd,'g*-',linewidth=2,ms=16 )\n",
    "#ax1[1].plot(mpd.dtime, mpd.max_miles-Miles0,'b*-',linewidth=2,ms=16)\n",
    "\n",
    "p1,= ax1[1].plot(gdata.gtime, gdata.gallons,'b*-',linewidth=2,ms=16)\n",
    "ax2 = ax1[1].twinx()\n",
    "ax3 = ax1[1].twinx()\n",
    "\n",
    "\n",
    "ax3.spines[\"right\"].set_position((\"axes\", 1.08))\n",
    "ax3.spines[\"right\"].set_visible(True)\n",
    "\n",
    "p2, = ax2.plot(gdata.gtime, gdata.price, 'r*-',linewidth=2,ms=16)\n",
    "ax2.set_ylabel('Price', color='r')\n",
    "#ax3.spines[\"right\"].set_position((\"axes\", 1.2)\n",
    "                                 \n",
    "p3, = ax3.plot(gdata.gtime, gdata.mpergal,'g*-',linewidth=2,ms=16)\n",
    "ax3.set_ylabel('Miles per gallon',color='g')\n",
    "\n",
    "#\n",
    "#set the titles\n",
    "ax1[0].set_ylabel('Miles per Day', color ='g',fontsize=18)\n",
    "ax1[1].set_ylabel('Gallons', color ='b',fontsize=18)\n",
    "ax1[1].set_xlabel('Date',fontsize=18)\n",
    "ax1[0].grid(True)\n",
    "ax1[1].grid(True)\n",
    "\n",
    "#set the colors\n",
    "tkw = dict(size=4, width=1.5)\n",
    "ax1[1].tick_params(axis='y', colors=p1.get_color(), **tkw)\n",
    "ax2.tick_params(axis='y', colors=p2.get_color(), **tkw)\n",
    "ax3.tick_params(axis='y', colors=p3.get_color(), **tkw)\n",
    "\n",
    "\n",
    "ax1[0].set_ylim(0,100)\n",
    "ax1[1].set_ylim(0,15)\n",
    "ax2.set_ylim(0,40)\n",
    "fig.subplots_adjust(hspace=.05)\n",
    "\n",
    "\n",
    "##\n",
    "#line = lines.Line2D([gdata.gtime[0], 15], [gdata.gtime[0], 35], lw=2, color='red', axes=ax1[0])\n",
    "#ax1[0].add_line(line)\n",
    "#l1=plt.axhline(50,color='red',ls='-')\n",
    "for i in range(NGas):\n",
    "    ax1[0].axvline(gdata.gtime[i], color='r', linestyle='--', lw=2)\n",
    "    ax1[1].axvline(gdata.gtime[i], color='r', linestyle='--', lw=2)\n",
    "\n",
    "    \n",
    "lines = [p1, p2, p3]\n",
    "ax1[1].legend(lines, [l.get_label() for l in lines])\n",
    "\n",
    "\n",
    "plt.show()"
   ]
  },
  {
   "cell_type": "code",
   "execution_count": 11,
   "metadata": {},
   "outputs": [
    {
     "data": {
      "text/plain": [
       "Text(0.5,1,'Mini Country')"
      ]
     },
     "execution_count": 11,
     "metadata": {},
     "output_type": "execute_result"
    },
    {
     "data": {
      "text/plain": [
       "<matplotlib.figure.Figure at 0x114808c18>"
      ]
     },
     "metadata": {},
     "output_type": "display_data"
    },
    {
     "data": {
      "image/png": "[encoded data removed]",
      "text/plain": [
       "<matplotlib.figure.Figure at 0x11429b278>"
      ]
     },
     "metadata": {},
     "output_type": "display_data"
    }
   ],
   "source": [
    "fig = plt.figure(2)\n",
    "mpd.plot(x='dtime',y='max_miles',figsize=(15,6),grid=True,kind='line',\n",
    "         label='Miles per day',linewidth=1,title='Miles per day')\n",
    "plt.ylabel('Miles',fontsize=18)\n",
    "plt.xlabel('Time',fontsize = 18)\n",
    "#plt.semilogy()\n",
    "plt.xticks(fontsize=12)\n",
    "plt.yticks(fontsize=12)\n",
    "plt.legend(fontsize=14)\n",
    "#plt.savefig('Thermal_Profile//Temperature_1.png')\n",
    "plt.title('Mini Country',fontsize=18)\n",
    "\n",
    "#slope, intercept, r_value, p_value, std_err = stats.linregress(mpd.dtime,mpd.max_miles)"
   ]
  },
  {
   "cell_type": "code",
   "execution_count": null,
   "metadata": {},
   "outputs": [],
   "source": [
    "#Plot miles per trip\n",
    "#gdata.gtime[0]\n",
    "#fig = plt.figure(1)\n",
    "#mdata[mdata.miles_int >0].plot(x='dtime',y='miles_int',figsize=(15,10),grid=True,label='Miles per trip')"
   ]
  },
  {
   "cell_type": "code",
   "execution_count": 42,
   "metadata": {},
   "outputs": [
    {
     "data": {
      "text/html": [
       "<div>\n",
       "<style scoped>\n",
       "    .dataframe tbody tr th:only-of-type {\n",
       "        vertical-align: middle;\n",
       "    }\n",
       "\n",
       "    .dataframe tbody tr th {\n",
       "        vertical-align: top;\n",
       "    }\n",
       "\n",
       "    .dataframe thead th {\n",
       "        text-align: right;\n",
       "    }\n",
       "</style>\n",
       "<table border=\"1\" class=\"dataframe\">\n",
       "  <thead>\n",
       "    <tr style=\"text-align: right;\">\n",
       "      <th></th>\n",
       "      <th>dtime</th>\n",
       "      <th>mpd</th>\n",
       "      <th>max_miles</th>\n",
       "    </tr>\n",
       "  </thead>\n",
       "  <tbody>\n",
       "    <tr>\n",
       "      <th>0</th>\n",
       "      <td>2017-12-18</td>\n",
       "      <td>12</td>\n",
       "      <td>12</td>\n",
       "    </tr>\n",
       "    <tr>\n",
       "      <th>1</th>\n",
       "      <td>2017-12-19</td>\n",
       "      <td>34</td>\n",
       "      <td>46</td>\n",
       "    </tr>\n",
       "    <tr>\n",
       "      <th>2</th>\n",
       "      <td>2017-12-20</td>\n",
       "      <td>33</td>\n",
       "      <td>79</td>\n",
       "    </tr>\n",
       "    <tr>\n",
       "      <th>3</th>\n",
       "      <td>2017-12-21</td>\n",
       "      <td>75</td>\n",
       "      <td>154</td>\n",
       "    </tr>\n",
       "    <tr>\n",
       "      <th>4</th>\n",
       "      <td>2017-12-22</td>\n",
       "      <td>20</td>\n",
       "      <td>174</td>\n",
       "    </tr>\n",
       "    <tr>\n",
       "      <th>5</th>\n",
       "      <td>2017-12-23</td>\n",
       "      <td>7</td>\n",
       "      <td>181</td>\n",
       "    </tr>\n",
       "    <tr>\n",
       "      <th>6</th>\n",
       "      <td>2017-12-24</td>\n",
       "      <td>0</td>\n",
       "      <td>181</td>\n",
       "    </tr>\n",
       "    <tr>\n",
       "      <th>7</th>\n",
       "      <td>2017-12-25</td>\n",
       "      <td>0</td>\n",
       "      <td>181</td>\n",
       "    </tr>\n",
       "    <tr>\n",
       "      <th>8</th>\n",
       "      <td>2017-12-26</td>\n",
       "      <td>0</td>\n",
       "      <td>181</td>\n",
       "    </tr>\n",
       "    <tr>\n",
       "      <th>9</th>\n",
       "      <td>2017-12-27</td>\n",
       "      <td>0</td>\n",
       "      <td>181</td>\n",
       "    </tr>\n",
       "    <tr>\n",
       "      <th>10</th>\n",
       "      <td>2017-12-28</td>\n",
       "      <td>0</td>\n",
       "      <td>181</td>\n",
       "    </tr>\n",
       "  </tbody>\n",
       "</table>\n",
       "</div>"
      ],
      "text/plain": [
       "        dtime  mpd  max_miles\n",
       "0  2017-12-18   12         12\n",
       "1  2017-12-19   34         46\n",
       "2  2017-12-20   33         79\n",
       "3  2017-12-21   75        154\n",
       "4  2017-12-22   20        174\n",
       "5  2017-12-23    7        181\n",
       "6  2017-12-24    0        181\n",
       "7  2017-12-25    0        181\n",
       "8  2017-12-26    0        181\n",
       "9  2017-12-27    0        181\n",
       "10 2017-12-28    0        181"
      ]
     },
     "execution_count": 42,
     "metadata": {},
     "output_type": "execute_result"
    },
    {
     "data": {
      "image/png": "[encoded data removed]",
      "text/plain": [
       "<matplotlib.figure.Figure at 0x112c10a58>"
      ]
     },
     "metadata": {},
     "output_type": "display_data"
    }
   ],
   "source": [
    "mdata.miles.plot()\n",
    "mpd"
   ]
  },
  {
   "cell_type": "code",
   "execution_count": 46,
   "metadata": {},
   "outputs": [
    {
     "data": {
      "text/plain": [
       "RangeIndex(start=0, stop=17, step=1)"
      ]
     },
     "execution_count": 46,
     "metadata": {},
     "output_type": "execute_result"
    }
   ],
   "source": [
    "#open the csv file for miles\n",
    "filename = 'MiniMiles.csv'\n",
    "\n",
    "#get the data\n",
    "mdata2 = pd.read_csv(filename,skiprows=0)\n",
    "mdata2.index\n",
    "###Convert Datetime to format\n",
    "#mdata['dtime'] = pd.to_datetime(mdata.dtime,format='%Y-%m-%d %H:%M:%S')\n",
    "#mdata['miles_int'] = 0"
   ]
  },
  {
   "cell_type": "code",
   "execution_count": 68,
   "metadata": {},
   "outputs": [
    {
     "data": {
      "text/html": [
       "<div>\n",
       "<style scoped>\n",
       "    .dataframe tbody tr th:only-of-type {\n",
       "        vertical-align: middle;\n",
       "    }\n",
       "\n",
       "    .dataframe tbody tr th {\n",
       "        vertical-align: top;\n",
       "    }\n",
       "\n",
       "    .dataframe thead th {\n",
       "        text-align: right;\n",
       "    }\n",
       "</style>\n",
       "<table border=\"1\" class=\"dataframe\">\n",
       "  <thead>\n",
       "    <tr style=\"text-align: right;\">\n",
       "      <th></th>\n",
       "      <th>mpd</th>\n",
       "      <th>max_miles</th>\n",
       "    </tr>\n",
       "    <tr>\n",
       "      <th>dtime</th>\n",
       "      <th></th>\n",
       "      <th></th>\n",
       "    </tr>\n",
       "  </thead>\n",
       "  <tbody>\n",
       "    <tr>\n",
       "      <th>2017-12-18</th>\n",
       "      <td>12</td>\n",
       "      <td>12</td>\n",
       "    </tr>\n",
       "    <tr>\n",
       "      <th>2017-12-19</th>\n",
       "      <td>34</td>\n",
       "      <td>46</td>\n",
       "    </tr>\n",
       "    <tr>\n",
       "      <th>2017-12-20</th>\n",
       "      <td>33</td>\n",
       "      <td>79</td>\n",
       "    </tr>\n",
       "    <tr>\n",
       "      <th>2017-12-21</th>\n",
       "      <td>75</td>\n",
       "      <td>154</td>\n",
       "    </tr>\n",
       "    <tr>\n",
       "      <th>2017-12-22</th>\n",
       "      <td>20</td>\n",
       "      <td>174</td>\n",
       "    </tr>\n",
       "  </tbody>\n",
       "</table>\n",
       "</div>"
      ],
      "text/plain": [
       "            mpd  max_miles\n",
       "dtime                     \n",
       "2017-12-18   12         12\n",
       "2017-12-19   34         46\n",
       "2017-12-20   33         79\n",
       "2017-12-21   75        154\n",
       "2017-12-22   20        174"
      ]
     },
     "execution_count": 68,
     "metadata": {},
     "output_type": "execute_result"
    }
   ],
   "source": [
    "m2 =mpd.set_index('dtime')\n",
    "m2.head()"
   ]
  },
  {
   "cell_type": "code",
   "execution_count": 70,
   "metadata": {},
   "outputs": [
    {
     "data": {
      "text/plain": [
       "Text(24.625,0.5,'Miles')"
      ]
     },
     "execution_count": 70,
     "metadata": {},
     "output_type": "execute_result"
    },
    {
     "data": {
      "image/png": "[encoded data removed]",
      "text/plain": [
       "<matplotlib.figure.Figure at 0x1a153dd128>"
      ]
     },
     "metadata": {},
     "output_type": "display_data"
    }
   ],
   "source": [
    "m2.mpd.plot(label='Raw')\n",
    "m2.mpd.rolling(2).mean().plot(label='2D ')\n",
    "plt.legend(bbox_to_anchor=(1.25, .5))\n",
    "plt.tight_layout()\n",
    "plt.ylabel(\"Miles\")"
   ]
  },
  {
   "cell_type": "code",
   "execution_count": null,
   "metadata": {},
   "outputs": [],
   "source": []
  }
 ],
 "metadata": {
  "kernelspec": {
   "display_name": "Python 3",
   "language": "python",
   "name": "python3"
  },
  "language_info": {
   "codemirror_mode": {
    "name": "ipython",
    "version": 3
   },
   "file_extension": ".py",
   "mimetype": "text/x-python",
   "name": "python",
   "nbconvert_exporter": "python",
   "pygments_lexer": "ipython3",
   "version": "3.6.3"
  }
 },
 "nbformat": 4,
 "nbformat_minor": 2
}
