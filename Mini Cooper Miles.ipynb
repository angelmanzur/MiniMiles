{
 "cells": [
  {
   "cell_type": "code",
   "execution_count": 1,
   "metadata": {
    "collapsed": true
   },
   "outputs": [],
   "source": [
    "import pandas as pd\n",
    "import numpy as np\n",
    "from datetime import datetime\n",
    "from matplotlib.pyplot import *\n",
    "import matplotlib.pyplot as plt\n",
    "\n",
    "#import seaborn as sns\n",
    "#sns.set(style='ticks')\n",
    "\n",
    "params = {'legend.fontsize': 'x-large',\n",
    "         'figure.figsize': (15,5),\n",
    "         'axes.labelsize': 'x-large',\n",
    "         'axes.titlesize': 'x-large',\n",
    "         'xtick.labelsize': 'x-large',\n",
    "         'ytick.labelsize': 'x-large'}\n",
    "plt.rcParams.update(params)\n",
    "%matplotlib inline\n",
    "\n",
    "pd.options.mode.chained_assignment = None"
   ]
  },
  {
   "cell_type": "code",
   "execution_count": 90,
   "metadata": {
    "collapsed": true
   },
   "outputs": [],
   "source": [
    "#open the csv file for miles\n",
    "filename = 'MiniMiles.csv'\n",
    "\n",
    "#get the data\n",
    "mdata = pd.read_csv(filename,skiprows=0)\n",
    "\n",
    "###Convert Datetime to format\n",
    "mdata['dtime'] = pd.to_datetime(mdata.dtime,format='%Y-%m-%d %H:%M:%S')\n",
    "mdata['miles_int'] = 0\n",
    "\n",
    "nentries = len(mdata)\n",
    "Miles0 = mdata.miles.min()\n",
    "for i in range(1,nentries):\n",
    "    mdata.miles_int.loc[i] = mdata.miles.loc[i]-mdata.miles.loc[i-1]\n",
    "\n",
    "#mdata['mymiles'] = mdata.miles -mdata.miles[0]\n",
    "#mdata['dTime'] = mdata.Data + ' ' \n",
    "\n",
    "def add_miles(month,day,year,hour,minute, miles):\n",
    "    newdate = datetime(year, month, day, hour, minute)\n",
    "    nentries = len(mdata)\n",
    "    diff = miles - mdata.miles.loc[nentries-1]\n",
    "    if miles < Miles0:\n",
    "        print(\"less miles thatn the initial miles (%d), not adding entry\" %Miles0)\n",
    "        return;\n",
    "    if diff <= 0:\n",
    "        print(\"same or lower milege (%d) as previous entry: %d, not adding point\" % (miles,mdata.miles.loc[nentries-1]))\n",
    "        return;\n",
    "    \n",
    "    \n",
    "    print ('Added entry %s, %d' % (newdate, miles))\n",
    "    mdata.loc[nentries] =[pd.to_datetime(newdate),miles,diff]\n",
    "    return;\n",
    "\n",
    "def add_gas(month,day,year,hour,minute, gallons, price):\n",
    "    newdate = datetime(year, month, day, hour, minute)\n",
    "    nentries = len(gdata)\n",
    "        \n",
    "    gdata.loc[nentries] =[pd.to_datetime(newdate),gallons, price]\n",
    "    return;\n",
    "\n",
    "def save_miles():\n",
    "    mdata.to_csv('MiniMiles.csv',sep=',',encoding='utf-8', index=False,columns=['dtime','miles'])\n",
    "    return;\n",
    "\n",
    "def save_gas():\n",
    "    gdata.to_csv('GasRefills.csv',sep=',',encoding='utf-8', index=False,columns=['gtime','gallons','price'])\n",
    "    return;"
   ]
  },
  {
   "cell_type": "markdown",
   "metadata": {},
   "source": [
    "# Add miles or gas data"
   ]
  },
  {
   "cell_type": "code",
   "execution_count": 91,
   "metadata": {
    "collapsed": false
   },
   "outputs": [
    {
     "name": "stdout",
     "output_type": "stream",
     "text": [
      "less miles thatn the initial miles (4279), not adding entry\n"
     ]
    },
    {
     "data": {
      "text/html": [
       "<div>\n",
       "<table border=\"1\" class=\"dataframe\">\n",
       "  <thead>\n",
       "    <tr style=\"text-align: right;\">\n",
       "      <th></th>\n",
       "      <th>dtime</th>\n",
       "      <th>miles</th>\n",
       "      <th>miles_int</th>\n",
       "    </tr>\n",
       "  </thead>\n",
       "  <tbody>\n",
       "    <tr>\n",
       "      <th>1</th>\n",
       "      <td>2017-12-18 21:00:00</td>\n",
       "      <td>4291</td>\n",
       "      <td>12</td>\n",
       "    </tr>\n",
       "    <tr>\n",
       "      <th>2</th>\n",
       "      <td>2017-12-19 20:00:00</td>\n",
       "      <td>4325</td>\n",
       "      <td>34</td>\n",
       "    </tr>\n",
       "    <tr>\n",
       "      <th>3</th>\n",
       "      <td>2017-12-20 18:45:00</td>\n",
       "      <td>4355</td>\n",
       "      <td>30</td>\n",
       "    </tr>\n",
       "    <tr>\n",
       "      <th>4</th>\n",
       "      <td>2017-12-20 19:30:00</td>\n",
       "      <td>4358</td>\n",
       "      <td>3</td>\n",
       "    </tr>\n",
       "    <tr>\n",
       "      <th>5</th>\n",
       "      <td>2017-12-21 08:44:00</td>\n",
       "      <td>4373</td>\n",
       "      <td>15</td>\n",
       "    </tr>\n",
       "  </tbody>\n",
       "</table>\n",
       "</div>"
      ],
      "text/plain": [
       "                dtime  miles  miles_int\n",
       "1 2017-12-18 21:00:00   4291         12\n",
       "2 2017-12-19 20:00:00   4325         34\n",
       "3 2017-12-20 18:45:00   4355         30\n",
       "4 2017-12-20 19:30:00   4358          3\n",
       "5 2017-12-21 08:44:00   4373         15"
      ]
     },
     "execution_count": 91,
     "metadata": {},
     "output_type": "execute_result"
    }
   ],
   "source": [
    "#add_miles(month, day, year, hour, minutes, miles)\n",
    "add_miles(12,21,2017,8,44,373)\n",
    "mdata.tail()"
   ]
  },
  {
   "cell_type": "code",
   "execution_count": null,
   "metadata": {
    "collapsed": true
   },
   "outputs": [],
   "source": [
    "#add_gas(month, day, year,hour, minutes, gallons, price)"
   ]
  },
  {
   "cell_type": "code",
   "execution_count": 71,
   "metadata": {
    "collapsed": false
   },
   "outputs": [
    {
     "data": {
      "text/html": [
       "<div>\n",
       "<table border=\"1\" class=\"dataframe\">\n",
       "  <thead>\n",
       "    <tr style=\"text-align: right;\">\n",
       "      <th></th>\n",
       "      <th>dtime</th>\n",
       "      <th>miles</th>\n",
       "      <th>miles_int</th>\n",
       "    </tr>\n",
       "  </thead>\n",
       "  <tbody>\n",
       "    <tr>\n",
       "      <th>1</th>\n",
       "      <td>2017-12-18 21:00:00</td>\n",
       "      <td>4291</td>\n",
       "      <td>12</td>\n",
       "    </tr>\n",
       "    <tr>\n",
       "      <th>2</th>\n",
       "      <td>2017-12-19 20:00:00</td>\n",
       "      <td>4325</td>\n",
       "      <td>34</td>\n",
       "    </tr>\n",
       "    <tr>\n",
       "      <th>3</th>\n",
       "      <td>2017-12-20 18:45:00</td>\n",
       "      <td>4355</td>\n",
       "      <td>30</td>\n",
       "    </tr>\n",
       "    <tr>\n",
       "      <th>4</th>\n",
       "      <td>2017-12-20 19:30:00</td>\n",
       "      <td>4358</td>\n",
       "      <td>3</td>\n",
       "    </tr>\n",
       "    <tr>\n",
       "      <th>5</th>\n",
       "      <td>2017-12-21 08:44:00</td>\n",
       "      <td>4373</td>\n",
       "      <td>15</td>\n",
       "    </tr>\n",
       "  </tbody>\n",
       "</table>\n",
       "</div>"
      ],
      "text/plain": [
       "                dtime  miles  miles_int\n",
       "1 2017-12-18 21:00:00   4291         12\n",
       "2 2017-12-19 20:00:00   4325         34\n",
       "3 2017-12-20 18:45:00   4355         30\n",
       "4 2017-12-20 19:30:00   4358          3\n",
       "5 2017-12-21 08:44:00   4373         15"
      ]
     },
     "execution_count": 71,
     "metadata": {},
     "output_type": "execute_result"
    }
   ],
   "source": [
    "mdata.tail()"
   ]
  },
  {
   "cell_type": "markdown",
   "metadata": {},
   "source": [
    "## Save the csv data file"
   ]
  },
  {
   "cell_type": "code",
   "execution_count": 9,
   "metadata": {
    "collapsed": true
   },
   "outputs": [],
   "source": [
    "save_miles()"
   ]
  },
  {
   "cell_type": "code",
   "execution_count": 39,
   "metadata": {
    "collapsed": true
   },
   "outputs": [],
   "source": [
    "save_gas()"
   ]
  },
  {
   "cell_type": "markdown",
   "metadata": {},
   "source": [
    "# Resample the date by day"
   ]
  },
  {
   "cell_type": "markdown",
   "metadata": {},
   "source": [
    "Resample the data by day 'D', get the total number of miles driven per day, and cumulative miles driven."
   ]
  },
  {
   "cell_type": "code",
   "execution_count": 10,
   "metadata": {
    "collapsed": true
   },
   "outputs": [],
   "source": [
    "#Get the Series data with time as an index\n",
    "dt1 = pd.Series(mdata.miles_int.tolist(), index=mdata.dtime)\n",
    "dt2 = pd.Series(mdata.miles.tolist(), index=mdata.dtime)\n",
    "\n",
    "#resample the data by day, later it can be by week, or business day\n",
    "max_m = dt2.resample('D').max();\n",
    "mpday = dt1.resample('D').sum();\n",
    "\n",
    "#merge the series into a dataframe\n",
    "mpd1 = pd.DataFrame(data=mpday.values,columns=['mpd'])\n",
    "mpd2 = pd.DataFrame(data=mpday.index,columns=['dtime'])\n",
    "max1 = pd.DataFrame(data=max_m.values,columns=['max_miles'])\n",
    "mpdt = pd.merge(mpd2,mpd1,left_index=True, right_index=True);\n",
    "\n",
    "mpd = mpdt.merge(max1,left_index=True,right_index=True)"
   ]
  },
  {
   "cell_type": "markdown",
   "metadata": {
    "collapsed": true
   },
   "source": [
    "# Plot the miles vs time"
   ]
  },
  {
   "cell_type": "code",
   "execution_count": 62,
   "metadata": {
    "collapsed": false,
    "scrolled": false
   },
   "outputs": [
    {
     "data": {
      "image/png": "[encoded data removed]",
      "text/plain": [
       "<matplotlib.figure.Figure at 0xb6028d0>"
      ]
     },
     "metadata": {},
     "output_type": "display_data"
    }
   ],
   "source": [
    "fig, ax1 = plt.subplots(2,sharex=True,figsize=(15,8))\n",
    "#ax2 = ax1.twinx()\n",
    "fig.suptitle('Mini Cooper CountryMan',fontsize=20)\n",
    "ax1[0].plot(mpd.dtime, mpd.mpd,'g*-',linewidth=2,ms=16)\n",
    "ax1[1].plot(mpd.dtime, mpd.max_miles-Miles0,'b*-',linewidth=2,ms=16)\n",
    "#set the titles\n",
    "ax1[0].set_ylabel('Miles per Day', color ='g',fontsize=18)\n",
    "ax1[1].set_ylabel('Total Miles', color ='b',fontsize=18)\n",
    "ax1[1].set_xlabel('Date',fontsize=18)\n",
    "ax1[0].grid(True)\n",
    "ax1[1].grid(True)\n",
    "fig.subplots_adjust(hspace=0)\n",
    "\n",
    "plt.show()"
   ]
  },
  {
   "cell_type": "code",
   "execution_count": 65,
   "metadata": {
    "collapsed": true
   },
   "outputs": [],
   "source": [
    "##fig = plt.figure(2)\n",
    "##mpd.plot(x='dtime',y='mpd',figsize=(15,6),grid=True,kind='line',\n",
    "##         label='Miles per day',linewidth=4,title='Miles per day')\n",
    "##plt.ylabel('Miles',fontsize=18)\n",
    "##plt.xlabel('Time',fontsize = 18)\n",
    "##plt.xticks(fontsize=12)\n",
    "##plt.yticks(fontsize=12)\n",
    "##plt.legend(fontsize=14)\n",
    "###plt.savefig('Thermal_Profile//Temperature_1.png')\n",
    "##plt.title('Mini Country',fontsize=18)"
   ]
  },
  {
   "cell_type": "code",
   "execution_count": 66,
   "metadata": {
    "collapsed": false
   },
   "outputs": [],
   "source": [
    "#Plot miles per trip\n",
    "#fig = plt.figure(1)\n",
    "#mdata[mdata.miles_int >0].plot(x='dtime',y='miles_int',figsize=(15,10),grid=True,label='Miles per trip')"
   ]
  },
  {
   "cell_type": "code",
   "execution_count": null,
   "metadata": {
    "collapsed": true
   },
   "outputs": [],
   "source": []
  }
 ],
 "metadata": {
  "kernelspec": {
   "display_name": "Python 3",
   "language": "python",
   "name": "python3"
  },
  "language_info": {
   "codemirror_mode": {
    "name": "ipython",
    "version": 3
   },
   "file_extension": ".py",
   "mimetype": "text/x-python",
   "name": "python",
   "nbconvert_exporter": "python",
   "pygments_lexer": "ipython3",
   "version": "3.6.0"
  }
 },
 "nbformat": 4,
 "nbformat_minor": 2
}
